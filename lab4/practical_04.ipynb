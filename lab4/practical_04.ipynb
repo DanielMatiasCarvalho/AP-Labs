{
 "cells": [
  {
   "cell_type": "markdown",
   "metadata": {},
   "source": [
    "# Multilayer Perceptron and Backpropagation"
   ]
  },
  {
   "cell_type": "code",
   "execution_count": 29,
   "metadata": {},
   "outputs": [],
   "source": [
    "import numpy as np\n",
    "import matplotlib.pyplot as plt\n",
    "\n",
    "%matplotlib inline"
   ]
  },
  {
   "cell_type": "markdown",
   "metadata": {},
   "source": [
    "## Question 1 \n",
    "\n",
    "Consider the neural network considered in the first question of the theoretical component of the practical class, with number of units: 4,4,3,3.\n",
    "\n",
    "![](https://drive.google.com/uc?id=1SHUgdosKp6AX8rRAACCZ5nb4kUXreI3g)\n",
    "\n",
    "Assume all units, except the ones in the output layer, use the hyperbolic tangent activation function. \n",
    "\n",
    "Consider the following training example:\n",
    "\n",
    "$\\mathbf{x} =\\begin{bmatrix} 1, 0, 1, 0 \\end{bmatrix}^\\intercal $,   $\\mathbf{y} =\\begin{bmatrix} 0\\\\ 1\\\\ 0 \\end{bmatrix}$\n",
    "\n",
    "❓ Using the squared error loss do a stochastic gradient descent update, initializing all connection weights and biases to 0.1 and a  learning rate η = 0.1:\n",
    "\n",
    "1. Perform the forward pass\n",
    "2. Compute the loss\n",
    "3. Compute gradients with backpropagation\n",
    "4. Update weights"
   ]
  },
  {
   "cell_type": "code",
   "execution_count": 30,
   "metadata": {},
   "outputs": [],
   "source": [
    "inputs = np.array([[1, 0, 1, 0]])\n",
    "labels = np.array([[0, 1, 0]])\n",
    "\n",
    "# First is input size, last is output size.\n",
    "units = [4, 4, 3, 3]\n",
    "\n",
    "# Initialize weights with correct shapes \n",
    "w1 = np.ones((4,4)) * 0.1\n",
    "w2 = np.ones((3,4)) * 0.1\n",
    "w3 = np.ones((3,3)) * 0.1\n",
    "b1 = np.ones((4)) * 0.1\n",
    "b2 = np.ones((3)) * 0.1\n",
    "b3 = np.ones((3)) * 0.1\n"
   ]
  },
  {
   "cell_type": "code",
   "execution_count": 31,
   "metadata": {},
   "outputs": [
    {
     "data": {
      "text/plain": [
       "array([0.16396106, 0.16396106, 0.16396106])"
      ]
     },
     "execution_count": 31,
     "metadata": {},
     "output_type": "execute_result"
    }
   ],
   "source": [
    "# Forward Pass\n",
    "x = inputs[0]\n",
    "y = labels[0]\n",
    "\n",
    "z1 = w1.dot(x) + b1\n",
    "h1 = np.tanh(z1)\n",
    "\n",
    "z2 = w2.dot(h1) + b2\n",
    "h2 = np.tanh(z2)\n",
    "\n",
    "z3 = w3.dot(h2) + b3\n",
    "z3"
   ]
  },
  {
   "cell_type": "code",
   "execution_count": 32,
   "metadata": {},
   "outputs": [
    {
     "data": {
      "text/plain": [
       "0.37636378397755565"
      ]
     },
     "execution_count": 32,
     "metadata": {},
     "output_type": "execute_result"
    }
   ],
   "source": [
    "# Loss\n",
    "loss = 0.5 * (z3 - y).dot(z3 - y)\n",
    "loss"
   ]
  },
  {
   "cell_type": "code",
   "execution_count": 33,
   "metadata": {},
   "outputs": [],
   "source": [
    "# Backpropagation\n",
    "z3_grad = z3 - y\n",
    "\n",
    "# [:, None] adds a dimension\n",
    "w3_grad = z3_grad[:, None].dot(h2[:, None].T)\n",
    "b3_grad = z3_grad\n",
    "h2_grad = w3.T.dot(z3_grad)\n",
    "z2_grad = h2_grad * (1-np.tanh(z2)**2)\n",
    "\n",
    "w2_grad = z2_grad[:, None].dot(h1[:, None].T)\n",
    "b2_grad = z2_grad\n",
    "h1_grad = w2.T.dot(z2_grad)\n",
    "z1_grad = h1_grad * (1-np.tanh(z1)**2)\n",
    "\n",
    "w1_grad = z1_grad[:, None].dot(x[:, None].T)\n",
    "b1_grad = z1_grad"
   ]
  },
  {
   "cell_type": "code",
   "execution_count": 34,
   "metadata": {},
   "outputs": [],
   "source": [
    "# Update Gradients\n",
    "eta = 0.1\n",
    "\n",
    "\n",
    "w1 = w1 - eta * w1_grad\n",
    "w2 = w2 - eta * w2_grad\n",
    "w3 = w3 - eta * w3_grad\n",
    "\n",
    "b1 = b1 - eta * b1_grad\n",
    "b2 = b2 - eta * b2_grad\n",
    "b3 = b3 - eta * b3_grad"
   ]
  },
  {
   "cell_type": "markdown",
   "metadata": {},
   "source": [
    "Gradient descent:\n",
    "Foward propagation for all data points\n",
    "\n",
    "Backpropagation with the original parameters for each data points\n",
    "\n",
    "Sum the gradients of all data points and update weights\n",
    "\n",
    "Learning rate absorbs the 1/N of the gradient descent, so we could put it or not, depends\n",
    "\n",
    "Stochastic Gradient Descent:\n",
    "Foward propagation of a data point\n",
    "\n",
    "Backpropagation with it\n",
    "\n",
    "Update the parameters with its gradients"
   ]
  },
  {
   "cell_type": "markdown",
   "metadata": {},
   "source": [
    "# GRADIENT DESCENT"
   ]
  },
  {
   "cell_type": "code",
   "execution_count": 35,
   "metadata": {},
   "outputs": [],
   "source": [
    "inputs = np.array([[0, 0, 10, 0]])\n",
    "labels = np.array([[0, 0, 1]])\n",
    "\n",
    "# First is input size, last is output size.\n",
    "units = [4, 4, 3, 3]\n",
    "\n",
    "# Initialize weights with correct shapes \n",
    "w1 = np.ones((4,4)) * 0.1\n",
    "w2 = np.ones((3,4)) * 0.1\n",
    "w3 = np.ones((3,3)) * 0.1\n",
    "b1 = np.ones((4)) * 0.1\n",
    "b2 = np.ones((3)) * 0.1\n",
    "b3 = np.ones((3)) * 0.1"
   ]
  },
  {
   "cell_type": "code",
   "execution_count": 36,
   "metadata": {},
   "outputs": [],
   "source": [
    "# Forward Pass\n",
    "x = inputs[0]\n",
    "y = labels[0]\n",
    "\n",
    "z1 = w1.dot(x) + b1\n",
    "h1 = np.tanh(z1)\n",
    "\n",
    "z2 = w2.dot(h1) + b2\n",
    "h2 = np.tanh(z2)\n",
    "\n",
    "z3 = w3.dot(h2) + b3"
   ]
  },
  {
   "cell_type": "code",
   "execution_count": 37,
   "metadata": {},
   "outputs": [
    {
     "data": {
      "text/plain": [
       "0.729260865456343"
      ]
     },
     "execution_count": 37,
     "metadata": {},
     "output_type": "execute_result"
    }
   ],
   "source": [
    "# Loss\n",
    "loss1 = 0.5 * (z3 - y).dot(z3 - y)\n",
    "loss + loss1"
   ]
  },
  {
   "cell_type": "code",
   "execution_count": 38,
   "metadata": {},
   "outputs": [],
   "source": [
    "# Backpropagation\n",
    "z3_grad1 = z3 - y\n",
    "\n",
    "# [:, None] adds a dimension\n",
    "w3_grad1 = z3_grad1[:, None].dot(h2[:, None].T)\n",
    "b3_grad1 = z3_grad1\n",
    "h2_grad1 = w3.T.dot(z3_grad1)\n",
    "z2_grad1 = h2_grad1 * (1-np.tanh(z2)**2)\n",
    "\n",
    "w2_grad1 = z2_grad1[:, None].dot(h1[:, None].T)\n",
    "b2_grad1 = z2_grad1\n",
    "h1_grad1 = w2.T.dot(z2_grad1)\n",
    "z1_grad1 = h1_grad1 * (1-np.tanh(z1)**2)\n",
    "\n",
    "w1_grad1 = z1_grad1[:, None].dot(x[:, None].T)\n",
    "b1_grad1 = z1_grad1"
   ]
  },
  {
   "cell_type": "code",
   "execution_count": 39,
   "metadata": {},
   "outputs": [],
   "source": [
    "# Update Gradients\n",
    "eta = 0.1\n",
    "\n",
    "w1 = w1 - eta * (w1_grad + w1_grad1)\n",
    "w2 = w2 - eta * (w2_grad + w2_grad1)\n",
    "w3 = w3 - eta * (w3_grad + w3_grad1)\n",
    "\n",
    "b1 = b1 - eta * (b1_grad + b1_grad1)\n",
    "b2 = b2 - eta * (b2_grad + b2_grad1)\n",
    "b3 = b3 - eta * (b3_grad + b3_grad1)"
   ]
  },
  {
   "cell_type": "markdown",
   "metadata": {},
   "source": [
    "❓ Let's say we were using the same training example but with the following changes:\n",
    "- The output units have a softmax activation function\n",
    "- The error function is cross-entropy\n",
    "\n",
    "Keeping the same initializations and learning rate, adjust your computations to the new changes."
   ]
  },
  {
   "cell_type": "markdown",
   "metadata": {},
   "source": [
    "**Solution:** We need only to change:  \n",
    "- the output, *i.e.*, $\\hat{y} = softmax(z_3)$ instead of $\\hat{y} = z_3$\n",
    "- the loss computation to $L = -y.log(\\hat{y})$\n",
    "- the gradient of the loss with respect to $z_3$: $\\frac{dL}{dz_3}$\n",
    "\n",
    "All other steps remain unchanged."
   ]
  },
  {
   "cell_type": "code",
   "execution_count": 40,
   "metadata": {},
   "outputs": [],
   "source": [
    "# Your code here\n",
    "inputs = np.array([[1, 0, 1, 0]])\n",
    "labels = np.array([[0, 1, 0]])\n",
    "\n",
    "# First is input size, last is output size.\n",
    "units = [4, 4, 3, 3]\n",
    "\n",
    "# Initialize weights with correct shapes \n",
    "w1 = np.ones((4,4)) * 0.1\n",
    "w2 = np.ones((3,4)) * 0.1\n",
    "w3 = np.ones((3,3)) * 0.1\n",
    "b1 = np.ones((4)) * 0.1\n",
    "b2 = np.ones((3)) * 0.1\n",
    "b3 = np.ones((3)) * 0.1"
   ]
  },
  {
   "cell_type": "code",
   "execution_count": 41,
   "metadata": {},
   "outputs": [],
   "source": [
    "# Forward Pass\n",
    "x = inputs[0]\n",
    "y = labels[0]\n",
    "\n",
    "z1 = w1.dot(x) + b1\n",
    "h1 = np.tanh(z1)\n",
    "\n",
    "z2 = w2.dot(h1) + b2\n",
    "h2 = np.tanh(z2)\n",
    "\n",
    "z3 = w3.dot(h2) + b3"
   ]
  },
  {
   "cell_type": "code",
   "execution_count": 42,
   "metadata": {},
   "outputs": [
    {
     "data": {
      "text/plain": [
       "1.0986122886681098"
      ]
     },
     "execution_count": 42,
     "metadata": {},
     "output_type": "execute_result"
    }
   ],
   "source": [
    "# Loss\n",
    "exp_scores = np.exp(z3)\n",
    "z_value = np.sum(exp_scores)\n",
    "y_prob = exp_scores / z_value\n",
    "\n",
    "correct_class = np.argmax(y)\n",
    "\n",
    "loss = np.log(z_value) - z3[correct_class]\n",
    "loss"
   ]
  },
  {
   "cell_type": "code",
   "execution_count": 43,
   "metadata": {},
   "outputs": [],
   "source": [
    "# Backpropagation\n",
    "z3_grad = y_prob - y\n",
    "\n",
    "# [:, None] adds a dimension\n",
    "w3_grad = z3_grad[:, None].dot(h2[:, None].T)\n",
    "b3_grad = z3_grad\n",
    "h2_grad = w3.T.dot(z3_grad)\n",
    "z2_grad = h2_grad * (1-np.tanh(z2)**2)\n",
    "\n",
    "w2_grad = z2_grad[:, None].dot(h1[:, None].T)\n",
    "b2_grad = z2_grad\n",
    "h1_grad = w2.T.dot(z2_grad)\n",
    "z1_grad = h1_grad * (1-np.tanh(z1)**2)\n",
    "\n",
    "w1_grad = z1_grad[:, None].dot(x[:, None].T)\n",
    "b1_grad = z1_grad"
   ]
  },
  {
   "cell_type": "code",
   "execution_count": 44,
   "metadata": {},
   "outputs": [],
   "source": [
    "# Update Gradients\n",
    "eta = 0.1\n",
    "\n",
    "w1 = w1 - eta * w1_grad\n",
    "w2 = w2 - eta * w2_grad\n",
    "w3 = w3 - eta * w3_grad\n",
    "\n",
    "b1 = b1 - eta * b1_grad\n",
    "b2 = b2 - eta * b2_grad\n",
    "b3 = b3 - eta * b3_grad"
   ]
  },
  {
   "cell_type": "markdown",
   "metadata": {},
   "source": [
    "# GRADIENT DESCENT"
   ]
  },
  {
   "cell_type": "code",
   "execution_count": 45,
   "metadata": {},
   "outputs": [],
   "source": [
    "inputs = np.array([[0, 0, 10, 0]])\n",
    "labels = np.array([[0, 0, 1]])\n",
    "\n",
    "# First is input size, last is output size.\n",
    "units = [4, 4, 3, 3]\n",
    "\n",
    "# Initialize weights with correct shapes \n",
    "w1 = np.ones((4,4)) * 0.1\n",
    "w2 = np.ones((3,4)) * 0.1\n",
    "w3 = np.ones((3,3)) * 0.1\n",
    "b1 = np.ones((4)) * 0.1\n",
    "b2 = np.ones((3)) * 0.1\n",
    "b3 = np.ones((3)) * 0.1"
   ]
  },
  {
   "cell_type": "code",
   "execution_count": 46,
   "metadata": {},
   "outputs": [],
   "source": [
    "# Forward Pass\n",
    "x = inputs[0]\n",
    "y = labels[0]\n",
    "\n",
    "z1 = w1.dot(x) + b1\n",
    "h1 = np.tanh(z1)\n",
    "\n",
    "z2 = w2.dot(h1) + b2\n",
    "h2 = np.tanh(z2)\n",
    "\n",
    "z3 = w3.dot(h2) + b3"
   ]
  },
  {
   "cell_type": "code",
   "execution_count": 47,
   "metadata": {},
   "outputs": [
    {
     "data": {
      "text/plain": [
       "2.1972245773362196"
      ]
     },
     "execution_count": 47,
     "metadata": {},
     "output_type": "execute_result"
    }
   ],
   "source": [
    "# Loss\n",
    "exp_scores = np.exp(z3)\n",
    "z_value = np.sum(exp_scores)\n",
    "y_prob = exp_scores / z_value\n",
    "\n",
    "correct_class = np.argmax(y)\n",
    "\n",
    "loss1 = np.log(z_value) - z3[correct_class]\n",
    "loss + loss1"
   ]
  },
  {
   "cell_type": "code",
   "execution_count": 48,
   "metadata": {},
   "outputs": [],
   "source": [
    "# Backpropagation\n",
    "z3_grad1 = y_prob - y\n",
    "\n",
    "# [:, None] adds a dimension\n",
    "w3_grad1 = z3_grad1[:, None].dot(h2[:, None].T)\n",
    "b3_grad1 = z3_grad1\n",
    "h2_grad1 = w3.T.dot(z3_grad1)\n",
    "z2_grad1 = h2_grad1 * (1-np.tanh(z2)**2)\n",
    "\n",
    "w2_grad1 = z2_grad1[:, None].dot(h1[:, None].T)\n",
    "b2_grad1 = z2_grad1\n",
    "h1_grad1 = w2.T.dot(z2_grad1)\n",
    "z1_grad1 = h1_grad1 * (1-np.tanh(z1)**2)\n",
    "\n",
    "w1_grad1 = z1_grad1[:, None].dot(x[:, None].T)\n",
    "b1_grad1 = z1_grad1"
   ]
  },
  {
   "cell_type": "code",
   "execution_count": 49,
   "metadata": {},
   "outputs": [],
   "source": [
    "# Update Gradients\n",
    "eta = 0.1\n",
    "\n",
    "w1 = w1 - eta * w1_grad\n",
    "w2 = w2 - eta * w2_grad\n",
    "w3 = w3 - eta * w3_grad\n",
    "\n",
    "b1 = b1 - eta * b1_grad\n",
    "b2 = b2 - eta * b2_grad\n",
    "b3 = b3 - eta * b3_grad"
   ]
  },
  {
   "cell_type": "markdown",
   "metadata": {},
   "source": [
    "❓ Complete functions `forward`, `compute_loss`, `backpropagation` and `update_weights` generalized to perform the same computations as before, but for any MLP architecture."
   ]
  },
  {
   "cell_type": "code",
   "execution_count": 50,
   "metadata": {},
   "outputs": [],
   "source": [
    "'''\n",
    "x: single observation of shape (n,)\n",
    "weights: list of weight matrices [W1, W2, ...]\n",
    "biases: list of biases matrices [b1, b2, ...]\n",
    "\n",
    "y: final output\n",
    "hiddens: list of computed hidden layers [h1, h2, ...]\n",
    "'''\n",
    "\n",
    "def forward(x, weights, biases):\n",
    "    num_layers = len(weights)\n",
    "    g = np.tanh\n",
    "    hiddens = []\n",
    "    \n",
    "    z1 = weights[0].dot(x) + biases[0]\n",
    "    h1 = g(z1)\n",
    "    hiddens.append((z1, h1))\n",
    "    \n",
    "    # compute hidden layers\n",
    "    for i in range(1, num_layers-1):\n",
    "        z = weights[i].dot(hiddens[i-1][1]) + biases[i]\n",
    "        h = g(z)\n",
    "        hiddens.append((z, h))\n",
    "    \n",
    "    #compute output\n",
    "    if num_layers == 1:\n",
    "        output = z1\n",
    "    else:\n",
    "        output = weights[-1].dot(hiddens[-1][1]) + biases[-1]\n",
    "    \n",
    "    return output, hiddens\n",
    "\n",
    "def compute_loss(output, y):\n",
    "    # Loss\n",
    "    exp_scores = np.exp(output)\n",
    "    z_value = np.sum(exp_scores)\n",
    "\n",
    "    correct_class = np.argmax(y)\n",
    "\n",
    "    loss = np.log(z_value) - output[correct_class]\n",
    "    \n",
    "    return loss   \n",
    "\n",
    "def backward(x, y, output, hiddens, weights):\n",
    "    num_layers = len(weights)\n",
    "    g = np.tanh\n",
    "    z = output\n",
    "    \n",
    "    probs = np.exp(z) / np.sum(np.exp(z))\n",
    "    grad_z = probs - y\n",
    "    \n",
    "    grad_weights = []\n",
    "    grad_biases = []\n",
    "    \n",
    "    # Backpropagate gradient computations \n",
    "    for i in range(num_layers-1, 0, -1):\n",
    "        # Gradient of hidden parameters.\n",
    "        grad_weights.append(grad_z[:, None].dot(hiddens[i-1][1][:, None].T))\n",
    "        grad_biases.append(grad_z)\n",
    "        grad_h = weights[i].T.dot(grad_z)\n",
    "        grad_z = grad_h * (1 - g(hiddens[i-1][0])**2)\n",
    "    \n",
    "    grad_weights.append(grad_z[:, None].dot(x[:, None].T))\n",
    "    grad_biases.append(grad_z)\n",
    "    # Making gradient vectors have the correct order\n",
    "    grad_weights.reverse()\n",
    "    grad_biases.reverse()\n",
    "    return grad_weights, grad_biases\n",
    "\n",
    "def update_weights(weights, grad_weights, biases, grad_biases, eta = 0.01):\n",
    "    for i in range(len(weights)):\n",
    "        weights[i] -= eta * grad_weights[i]\n",
    "        biases[i] -= eta * grad_biases[i]\n",
    "    return weights, biases"
   ]
  },
  {
   "cell_type": "markdown",
   "metadata": {},
   "source": [
    "## Question 2\n",
    "\n",
    "Now we will use the MLP on real data to classify handwritten digits.\n",
    "\n",
    "Data is loaded, split into train and test sets and target is one-hot encoded below:"
   ]
  },
  {
   "cell_type": "code",
   "execution_count": 51,
   "metadata": {},
   "outputs": [],
   "source": [
    "from sklearn.datasets import load_digits\n",
    "from sklearn.model_selection import train_test_split\n",
    "\n",
    "data = load_digits()\n",
    "\n",
    "inputs = data.data  \n",
    "labels = data.target  \n",
    "n, p = np.shape(inputs)\n",
    "n_classes = len(np.unique(labels))\n",
    "\n",
    "\n",
    "X_train, X_test, y_train, y_test = train_test_split(inputs, labels, test_size=0.2, random_state=42)\n",
    "\n",
    "# Encode labels as one-hot vectors.\n",
    "one_hot = np.zeros((np.size(y_train, 0), n_classes))\n",
    "for i in range(np.size(y_train, 0)):\n",
    "    one_hot[i, y_train[i]] = 1\n",
    "y_train_ohe = one_hot\n",
    "one_hot = np.zeros((np.size(y_test, 0), n_classes))\n",
    "for i in range(np.size(y_test, 0)):\n",
    "    one_hot[i, y_test[i]] = 1\n",
    "y_test_ohe = one_hot"
   ]
  },
  {
   "cell_type": "markdown",
   "metadata": {},
   "source": [
    "❓ Complete function `MLP_train_epoch` using your previously defined functions to compute one epoch of training using SGD:"
   ]
  },
  {
   "cell_type": "code",
   "execution_count": 52,
   "metadata": {},
   "outputs": [],
   "source": [
    "'''\n",
    "Outputs:\n",
    "    - weights: list of updated weights\n",
    "    - biases: list of updated \n",
    "    - loss: scalar of total loss (sum for all observations)\n",
    "\n",
    "'''\n",
    "\n",
    "def MLP_train_epoch(inputs, labels, weights, biases, eta = 0.01):\n",
    "    total_loss = 0\n",
    "    \n",
    "    # For each observation and target\n",
    "    for x, y in zip(inputs, labels):\n",
    "        # Compute forward pass\n",
    "        output, hiddens = forward(x, weights, biases)\n",
    "        # Compute Loss and update total loss\n",
    "        total_loss += compute_loss(output, y)\n",
    "        # Compute backpropagation\n",
    "        grad_weights, grad_biases = backward(x, y, output, hiddens, weights)\n",
    "        # Update weights\n",
    "        weights, biases = update_weights(weights, grad_weights, biases, grad_biases, eta)\n",
    "        \n",
    "    return weights, biases, total_loss"
   ]
  },
  {
   "cell_type": "markdown",
   "metadata": {},
   "source": [
    "Let's use a MLP with a single hidden layer of 50 units and a learning rate of $0.001$. \n",
    "\n",
    "❓ Run 100 epochs of your MLP. Save the loss at each epoch in a list and plot the loss evolution after training."
   ]
  },
  {
   "cell_type": "code",
   "execution_count": 53,
   "metadata": {},
   "outputs": [
    {
     "data": {
      "image/png": "[encoded data removed]",
      "text/plain": [
       "<Figure size 720x432 with 1 Axes>"
      ]
     },
     "metadata": {
      "needs_background": "light"
     },
     "output_type": "display_data"
    }
   ],
   "source": [
    "# NOTE TO SELF: NEVER, EVER, try to initialize weights and biases all with the same value. Symmetry breaking is important.\n",
    "\n",
    "# Initialize weights\n",
    "w1 = np.random.randn(50, p) * 0.01\n",
    "w2 = np.random.randn(n_classes, 50) * 0.01\n",
    "w = [w1, w2]\n",
    "\n",
    "b1 = np.random.randn(50) * 0.01\n",
    "b2 = np.random.randn(n_classes) * 0.01\n",
    "b = [b1, b2]\n",
    "\n",
    "# Empty loss list\n",
    "loss_list = []\n",
    "\n",
    "# Learning rate.\n",
    "eta = 0.001\n",
    "epochs = 100\n",
    "\n",
    "# Run epochs and append loss to list\n",
    "for i in range(epochs):\n",
    "    w, b, loss = MLP_train_epoch(X_train, y_train_ohe, w, b, eta)\n",
    "    loss_list.append(loss)\n",
    "\n",
    "# Plot loss evolution\n",
    "\n",
    "# Plot the loss evolution\n",
    "plt.figure(figsize=(10, 6))\n",
    "plt.plot(range(1, 101), loss_list, marker='o', linestyle='-', color='b')\n",
    "plt.title('Loss Evolution Over Epochs')\n",
    "plt.xlabel('Epochs')\n",
    "plt.ylabel('Loss')\n",
    "plt.grid(True)\n",
    "plt.show()\n"
   ]
  },
  {
   "cell_type": "markdown",
   "metadata": {},
   "source": [
    "❓ Complete function `MLP_predict` to get array of predictions from your trained MLP:"
   ]
  },
  {
   "cell_type": "code",
   "execution_count": 54,
   "metadata": {},
   "outputs": [],
   "source": [
    "def MLP_predict(inputs, weights, biases):\n",
    "    predicted_labels = []\n",
    "    for x in inputs:\n",
    "        output, _ = forward(x, weights, biases)\n",
    "        predicted_labels.append(np.argmax(output))\n",
    "    predicted_labels = np.array(predicted_labels)\n",
    "    return predicted_labels"
   ]
  },
  {
   "cell_type": "markdown",
   "metadata": {},
   "source": [
    "❓ Compute the accuracy on the train and test sets."
   ]
  },
  {
   "cell_type": "code",
   "execution_count": 55,
   "metadata": {},
   "outputs": [
    {
     "name": "stdout",
     "output_type": "stream",
     "text": [
      "Train accuracy: 1.0\n",
      "Test accuracy: 0.9722222222222222\n"
     ]
    }
   ],
   "source": [
    "predicted_labels_train = MLP_predict(X_train, w, b)\n",
    "predicted_labels_test = MLP_predict(X_test, w, b)\n",
    "\n",
    "print(f'Train accuracy: {(predicted_labels_train==y_train).mean()}')\n",
    "print(f'Test accuracy: {(predicted_labels_test==y_test).mean()}')"
   ]
  },
  {
   "cell_type": "markdown",
   "metadata": {},
   "source": [
    "We can compare our results with Sklearn's implementation of the MLP. Compare their accuracies:"
   ]
  },
  {
   "cell_type": "code",
   "execution_count": 56,
   "metadata": {},
   "outputs": [
    {
     "name": "stdout",
     "output_type": "stream",
     "text": [
      "0.9993041057759221\n",
      "0.9722222222222222\n"
     ]
    }
   ],
   "source": [
    "from sklearn.neural_network import MLPClassifier\n",
    "clf = MLPClassifier(hidden_layer_sizes=(50),\n",
    "                    activation='tanh',\n",
    "                    solver='sgd',\n",
    "                    learning_rate='constant',\n",
    "                    learning_rate_init=0.001,\n",
    "                    nesterovs_momentum=False,\n",
    "                    random_state=1,\n",
    "                    max_iter=1000)\n",
    "clf.fit(X_train, y_train)\n",
    "print(clf.score(X_train, y_train))\n",
    "print(clf.score(X_test, y_test))"
   ]
  }
 ],
 "metadata": {
  "kernelspec": {
   "display_name": "Python 3",
   "language": "python",
   "name": "python3"
  },
  "language_info": {
   "codemirror_mode": {
    "name": "ipython",
    "version": 3
   },
   "file_extension": ".py",
   "mimetype": "text/x-python",
   "name": "python",
   "nbconvert_exporter": "python",
   "pygments_lexer": "ipython3",
   "version": "3.10.12"
  }
 },
 "nbformat": 4,
 "nbformat_minor": 4
}
