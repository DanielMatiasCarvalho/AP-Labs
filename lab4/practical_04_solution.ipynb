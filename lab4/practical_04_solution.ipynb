{
 "cells": [
  {
   "cell_type": "markdown",
   "metadata": {},
   "source": [
    "# Multilayer Perceptron and Backpropagation"
   ]
  },
  {
   "cell_type": "code",
   "execution_count": 1,
   "metadata": {},
   "outputs": [],
   "source": [
    "import numpy as np\n",
    "import matplotlib.pyplot as plt\n",
    "\n",
    "%matplotlib inline"
   ]
  },
  {
   "cell_type": "markdown",
   "metadata": {},
   "source": [
    "## Question 1 \n",
    "\n",
    "Consider the neural network considered in the first question of the theoretical component of the practical class, with number of units: 4,4,3,3.\n",
    "\n",
    "![](https://drive.google.com/uc?id=1SHUgdosKp6AX8rRAACCZ5nb4kUXreI3g)\n",
    "\n",
    "Assume all units, except the ones in the output layer, use the hyperbolic tangent activation function. \n",
    "\n",
    "Consider the following training example:\n",
    "\n",
    "$\\mathbf{x} =\\begin{bmatrix} 1, 0, 1, 0 \\end{bmatrix}^\\intercal $,   $\\mathbf{y} =\\begin{bmatrix} 0\\\\ 1\\\\ 0 \\end{bmatrix}$\n",
    "\n",
    "❓ Using the squared error loss do a stochastic gradient descent update, initializing all connection weights and biases to 0.1 and a  learning rate η = 0.1:\n",
    "\n",
    "1. Perform the forward pass\n",
    "2. Compute the loss\n",
    "3. Compute gradients with backpropagation\n",
    "4. Update weights"
   ]
  },
  {
   "cell_type": "code",
   "execution_count": 2,
   "metadata": {},
   "outputs": [],
   "source": [
    "inputs = np.array([[1, 0, 1, 0]])\n",
    "labels = np.array([[0, 1, 0]])\n",
    "\n",
    "# First is input size, last is output size.\n",
    "units = [4, 4, 3, 3]\n",
    "\n",
    "# Initialize weights with correct shapes \n",
    "\n",
    "W1 = .1 * np.ones((units[1], units[0]))\n",
    "b1 = .1 * np.ones(units[1])\n",
    "W2 = .1 * np.ones((units[2], units[1]))\n",
    "b2 = .1 * np.ones(units[2])\n",
    "W3 = .1 * np.ones((units[3], units[2]))\n",
    "b3 = .1 * np.ones(units[3])"
   ]
  },
  {
   "cell_type": "code",
   "execution_count": 3,
   "metadata": {},
   "outputs": [
    {
     "name": "stdout",
     "output_type": "stream",
     "text": [
      "[0.16396106 0.16396106 0.16396106]\n"
     ]
    }
   ],
   "source": [
    "# Forward Pass\n",
    "\n",
    "h0 = inputs[0]\n",
    "\n",
    "z1 = W1.dot(h0) + b1\n",
    "h1 = np.tanh(z1)\n",
    "\n",
    "z2 = W2.dot(h1) + b2\n",
    "h2 = np.tanh(z2)\n",
    "\n",
    "z3 = W3.dot(h2) + b3\n",
    "\n",
    "y = labels[0]\n",
    "\n",
    "print(z3)"
   ]
  },
  {
   "cell_type": "code",
   "execution_count": 4,
   "metadata": {},
   "outputs": [
    {
     "name": "stdout",
     "output_type": "stream",
     "text": [
      "0.37636378397755565\n"
     ]
    }
   ],
   "source": [
    "# Loss\n",
    "\n",
    "loss = .5*(z3 - y).dot(z3 - y)\n",
    "\n",
    "print(loss)"
   ]
  },
  {
   "cell_type": "code",
   "execution_count": 5,
   "metadata": {},
   "outputs": [],
   "source": [
    "# Backpropagation\n",
    "\n",
    "grad_z3 = z3 - y  # Grad of loss wrt z3.\n",
    "\n",
    "# Gradient of hidden parameters.\n",
    "grad_W3 = grad_z3[:, None].dot(h2[:, None].T)\n",
    "grad_b3 = grad_z3\n",
    "\n",
    "# Gradient of hidden layer below.\n",
    "grad_h2 = W3.T.dot(grad_z3)\n",
    "\n",
    "# Gradient of hidden layer below before activation.\n",
    "grad_z2 = grad_h2 * (1-h2**2)   # Grad of loss wrt z3.\n",
    "\n",
    "# Gradient of hidden parameters.\n",
    "grad_W2 = grad_z2[:, None].dot(h1[:, None].T)\n",
    "grad_b2 = grad_z2\n",
    "\n",
    "# Gradient of hidden layer below.\n",
    "grad_h1 = W2.T.dot(grad_z2)\n",
    "\n",
    "# Gradient of hidden layer below before activation.\n",
    "grad_z1 = grad_h1 * (1-h1**2)   # Grad of loss wrt z3.\n",
    "\n",
    "# Gradient of hidden parameters.\n",
    "grad_W1 = grad_z1[:, None].dot(h0[:, None].T)\n",
    "grad_b1 = grad_z1"
   ]
  },
  {
   "cell_type": "code",
   "execution_count": 6,
   "metadata": {},
   "outputs": [],
   "source": [
    "# Update Gradients\n",
    "\n",
    "# Gradient updates.\n",
    "eta = 0.1\n",
    "W1 -= eta*grad_W1\n",
    "b1 -= eta*grad_b1\n",
    "W2 -= eta*grad_W2\n",
    "b2 -= eta*grad_b2\n",
    "W3 -= eta*grad_W3\n",
    "b3 -= eta*grad_b3"
   ]
  },
  {
   "cell_type": "markdown",
   "metadata": {},
   "source": [
    "❓ Let's say we were using the same training example but with the following changes:\n",
    "- The output units have a softmax activation function\n",
    "- The error function is cross-entropy\n",
    "\n",
    "Keeping the same initializations and learning rate, adjust your computations to the new changes."
   ]
  },
  {
   "cell_type": "markdown",
   "metadata": {},
   "source": [
    "**Solution:** We need only to change:  \n",
    "- the output, *i.e.*, $\\hat{y} = softmax(z_3)$ instead of $\\hat{y} = z_3$\n",
    "- the loss computation to $L = -y.log(\\hat{y})$\n",
    "- the gradient of the loss with respect to $z_3$: $\\frac{dL}{dz_3}$\n",
    "\n",
    "All other steps remain unchanged."
   ]
  },
  {
   "cell_type": "code",
   "execution_count": 7,
   "metadata": {},
   "outputs": [],
   "source": [
    "# Your code here\n",
    "\n",
    "W1 = .1 * np.ones((units[1], units[0]))\n",
    "b1 = .1 * np.ones(units[1])\n",
    "W2 = .1 * np.ones((units[2], units[1]))\n",
    "b2 = .1 * np.ones(units[2])\n",
    "W3 = .1 * np.ones((units[3], units[2]))\n",
    "b3 = .1 * np.ones(units[3])\n",
    "\n",
    "# Forward Pass\n",
    "\n",
    "h0 = inputs[0]\n",
    "\n",
    "z1 = W1.dot(h0) + b1\n",
    "h1 = np.tanh(z1)\n",
    "\n",
    "z2 = W2.dot(h1) + b2\n",
    "h2 = np.tanh(z2)\n",
    "\n",
    "z3 = W3.dot(h2) + b3\n",
    "\n",
    "p = np.exp(z3) / sum(np.exp(z3))\n",
    "y = labels[0]\n",
    "\n",
    "# Loss\n",
    "\n",
    "loss = -y.dot(np.log(p))\n",
    "\n",
    "# Backpropagation\n",
    "\n",
    "grad_z3 = p - y  # Grad of loss wrt p\n",
    "\n",
    "# Gradient of hidden parameters.\n",
    "grad_W3 = grad_z3[:, None].dot(h2[:, None].T)\n",
    "grad_b3 = grad_z3\n",
    "\n",
    "# Gradient of hidden layer below.\n",
    "grad_h2 = W3.T.dot(grad_z3)\n",
    "\n",
    "# Gradient of hidden layer below before activation.\n",
    "grad_z2 = grad_h2 * (1-h2**2)   # Grad of loss wrt z3.\n",
    "\n",
    "# Gradient of hidden parameters.\n",
    "grad_W2 = grad_z2[:, None].dot(h1[:, None].T)\n",
    "grad_b2 = grad_z2\n",
    "\n",
    "# Gradient of hidden layer below.\n",
    "grad_h1 = W2.T.dot(grad_z2)\n",
    "\n",
    "# Gradient of hidden layer below before activation.\n",
    "grad_z1 = grad_h1 * (1-h1**2)   # Grad of loss wrt z3.\n",
    "\n",
    "# Gradient of hidden parameters.\n",
    "grad_W1 = grad_z1[:, None].dot(h0[:, None].T)\n",
    "grad_b1 = grad_z1"
   ]
  },
  {
   "cell_type": "markdown",
   "metadata": {},
   "source": [
    "❓ Complete functions `forward`, `compute_loss`, `backpropagation` and `update_weights` generalized to perform the same computations as before, but for any MLP architecture."
   ]
  },
  {
   "cell_type": "code",
   "execution_count": 8,
   "metadata": {},
   "outputs": [],
   "source": [
    "'''\n",
    "x: single observation of shape (n,)\n",
    "weights: list of weight matrices [W1, W2, ...]\n",
    "biases: list of biases matrices [b1, b2, ...]\n",
    "\n",
    "y: final output\n",
    "hiddens: list of computed hidden layers [h1, h2, ...]\n",
    "'''\n",
    "\n",
    "def forward(x, weights, biases):\n",
    "    num_layers = len(weights)\n",
    "    g = np.tanh\n",
    "    hiddens = []\n",
    "    # compute hidden layers\n",
    "    for i in range(num_layers):\n",
    "            h = x if i == 0 else hiddens[i-1]\n",
    "            z = weights[i].dot(h) + biases[i]\n",
    "            if i < num_layers-1:  # Assuming the output layer has no activation.\n",
    "                hiddens.append(g(z))\n",
    "    #compute output\n",
    "    output = z\n",
    "    \n",
    "    return output, hiddens\n",
    "\n",
    "def compute_loss(output, y):\n",
    "    # compute loss\n",
    "    probs = np.exp(output) / np.sum(np.exp(output))\n",
    "    loss = -y.dot(np.log(probs))\n",
    "    \n",
    "    return loss   \n",
    "\n",
    "def backward(x, y, output, hiddens, weights):\n",
    "    num_layers = len(weights)\n",
    "    g = np.tanh\n",
    "    z = output\n",
    "\n",
    "    probs = np.exp(output) / np.sum(np.exp(output))\n",
    "    grad_z = probs - y  \n",
    "    \n",
    "    grad_weights = []\n",
    "    grad_biases = []\n",
    "    \n",
    "    # Backpropagate gradient computations \n",
    "    for i in range(num_layers-1, -1, -1):\n",
    "        \n",
    "        # Gradient of hidden parameters.\n",
    "        h = x if i == 0 else hiddens[i-1]\n",
    "        grad_weights.append(grad_z[:, None].dot(h[:, None].T))\n",
    "        grad_biases.append(grad_z)\n",
    "        \n",
    "        # Gradient of hidden layer below.\n",
    "        grad_h = weights[i].T.dot(grad_z)\n",
    "\n",
    "        # Gradient of hidden layer below before activation.\n",
    "        grad_z = grad_h * (1-h**2)   # Grad of loss wrt z3.\n",
    "\n",
    "    # Making gradient vectors have the correct order\n",
    "    grad_weights.reverse()\n",
    "    grad_biases.reverse()\n",
    "    return grad_weights, grad_biases"
   ]
  },
  {
   "cell_type": "markdown",
   "metadata": {},
   "source": [
    "## Question 2\n",
    "\n",
    "Now we will use the MLP on real data to classify handwritten digits.\n",
    "\n",
    "Data is loaded, split into train and test sets and target is one-hot encoded below:"
   ]
  },
  {
   "cell_type": "code",
   "execution_count": 9,
   "metadata": {},
   "outputs": [],
   "source": [
    "from sklearn.datasets import load_digits\n",
    "from sklearn.model_selection import train_test_split\n",
    "\n",
    "data = load_digits()\n",
    "\n",
    "inputs = data.data  \n",
    "labels = data.target  \n",
    "n, p = np.shape(inputs)\n",
    "n_classes = len(np.unique(labels))\n",
    "\n",
    "\n",
    "X_train, X_test, y_train, y_test = train_test_split(inputs, labels, test_size=0.2, random_state=42)\n",
    "\n",
    "# Encode labels as one-hot vectors.\n",
    "one_hot = np.zeros((np.size(y_train, 0), n_classes))\n",
    "for i in range(np.size(y_train, 0)):\n",
    "    one_hot[i, y_train[i]] = 1\n",
    "y_train_ohe = one_hot\n",
    "one_hot = np.zeros((np.size(y_test, 0), n_classes))\n",
    "for i in range(np.size(y_test, 0)):\n",
    "    one_hot[i, y_test[i]] = 1\n",
    "y_test_ohe = one_hot"
   ]
  },
  {
   "cell_type": "markdown",
   "metadata": {},
   "source": [
    "❓ Complete function `MLP_train_epoch` using your previously defined functions to compute one epoch of training using SGD:"
   ]
  },
  {
   "cell_type": "code",
   "execution_count": 10,
   "metadata": {},
   "outputs": [],
   "source": [
    "'''\n",
    "Outputs:\n",
    "    - weights: list of updated weights\n",
    "    - biases: list of updated \n",
    "    - loss: scalar of total loss (sum for all observations)\n",
    "\n",
    "'''\n",
    "\n",
    "def MLP_train_epoch(inputs, labels, weights, biases):\n",
    "    num_layers = len(weights)\n",
    "    total_loss = 0\n",
    "    # For each observation and target\n",
    "    for x, y in zip(inputs, labels):\n",
    "        # Comoute forward pass\n",
    "        output, hiddens = forward(x, weights, biases)\n",
    "        \n",
    "        # Compute Loss and Update total loss\n",
    "        loss = compute_loss(output, y)\n",
    "        total_loss+=loss\n",
    "        # Compute backpropagation\n",
    "        grad_weights, grad_biases = backward(x, y, output, hiddens, weights)\n",
    "        \n",
    "        # Update weights\n",
    "        \n",
    "        for i in range(num_layers):\n",
    "            weights[i] -= eta*grad_weights[i]\n",
    "            biases[i] -= eta*grad_biases[i]\n",
    "            \n",
    "    return weights, biases, total_loss"
   ]
  },
  {
   "cell_type": "markdown",
   "metadata": {},
   "source": [
    "Let's use a MLP with a single hidden layer of 50 units and a learning rate of $0.001$. \n",
    "\n",
    "❓ Run 100 epochs of your MLP. Save the loss at each epoch in a list and plot the loss evolution after training."
   ]
  },
  {
   "cell_type": "code",
   "execution_count": 11,
   "metadata": {},
   "outputs": [
    {
     "data": {
      "image/png": "[encoded data removed]",
      "text/plain": [
       "<Figure size 432x288 with 1 Axes>"
      ]
     },
     "metadata": {
      "needs_background": "light"
     },
     "output_type": "display_data"
    }
   ],
   "source": [
    "# Initialize weights\n",
    "\n",
    "# Single hidden unit MLP with 50 hidden units.\n",
    "# First is input size, last is output size.\n",
    "units = [64, 50, 10]\n",
    "\n",
    "# Initialize all weights and biases randomly.\n",
    "W1 = .1 * np.random.randn(units[1], units[0])\n",
    "b1 = .1 * np.random.randn(units[1])\n",
    "W2 = .1 * np.random.randn(units[2], units[1])\n",
    "b2 = .1 * np.random.randn(units[2])\n",
    "\n",
    "weights = [W1, W2]\n",
    "biases = [b1, b2]\n",
    "\n",
    "# Learning rate.\n",
    "eta = 0.001  \n",
    "    \n",
    "# Run epochs\n",
    "\n",
    "losses = []\n",
    "\n",
    "for epoch in range(100):\n",
    "    weights, biases, loss = MLP_train_epoch(X_train, y_train_ohe, weights, biases)\n",
    "    losses.append(loss)\n",
    "    \n",
    "plt.plot(losses)\n",
    "plt.show()"
   ]
  },
  {
   "cell_type": "markdown",
   "metadata": {},
   "source": [
    "❓ Complete function `MLP_predict` to get array of predictions from your trained MLP:"
   ]
  },
  {
   "cell_type": "code",
   "execution_count": 12,
   "metadata": {},
   "outputs": [],
   "source": [
    "def MLP_predict(inputs, weights, biases):\n",
    "    predicted_labels = []\n",
    "    for x in inputs:\n",
    "        # Compute forward pass and get the class with the highest probability\n",
    "        output, _ = forward(x, weights, biases)\n",
    "        y_hat = np.argmax(output)\n",
    "        predicted_labels.append(y_hat)\n",
    "    predicted_labels = np.array(predicted_labels)\n",
    "    return predicted_labels"
   ]
  },
  {
   "cell_type": "markdown",
   "metadata": {},
   "source": [
    "❓ Compute the accuracy on the train and test sets."
   ]
  },
  {
   "cell_type": "code",
   "execution_count": 13,
   "metadata": {},
   "outputs": [
    {
     "name": "stdout",
     "output_type": "stream",
     "text": [
      "Train accuracy: 0.9993041057759221\n",
      "Test accuracy: 0.9805555555555555\n"
     ]
    }
   ],
   "source": [
    "y_train_pred = MLP_predict(X_train, weights, biases)\n",
    "y_test_pred = MLP_predict(X_test, weights, biases)\n",
    "\n",
    "print(f'Train accuracy: {(y_train_pred==y_train).mean()}')\n",
    "print(f'Test accuracy: {(y_test_pred==y_test).mean()}')"
   ]
  },
  {
   "cell_type": "markdown",
   "metadata": {},
   "source": [
    "We can compare our results with Sklearn's implementation of the MLP. Compare their accuracies:"
   ]
  },
  {
   "cell_type": "code",
   "execution_count": 14,
   "metadata": {},
   "outputs": [
    {
     "name": "stdout",
     "output_type": "stream",
     "text": [
      "0.9993041057759221\n",
      "0.9722222222222222\n"
     ]
    }
   ],
   "source": [
    "from sklearn.neural_network import MLPClassifier\n",
    "clf = MLPClassifier(hidden_layer_sizes=(50),\n",
    "                    activation='tanh',\n",
    "                    solver='sgd',\n",
    "                    learning_rate='constant',\n",
    "                    learning_rate_init=0.001,\n",
    "                    nesterovs_momentum=False,\n",
    "                    random_state=1,\n",
    "                    max_iter=1000)\n",
    "clf.fit(X_train, y_train)\n",
    "print(clf.score(X_train, y_train))\n",
    "print(clf.score(X_test, y_test))"
   ]
  }
 ],
 "metadata": {
  "kernelspec": {
   "display_name": "Python 3",
   "language": "python",
   "name": "python3"
  },
  "language_info": {
   "codemirror_mode": {
    "name": "ipython",
    "version": 3
   },
   "file_extension": ".py",
   "mimetype": "text/x-python",
   "name": "python",
   "nbconvert_exporter": "python",
   "pygments_lexer": "ipython3",
   "version": "3.10.12"
  }
 },
 "nbformat": 4,
 "nbformat_minor": 4
}
